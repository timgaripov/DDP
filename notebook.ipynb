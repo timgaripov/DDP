{
 "cells": [
  {
   "cell_type": "code",
   "execution_count": 2,
   "metadata": {},
   "outputs": [],
   "source": [
    "import numpy as np\n",
    "import math\n",
    "import matplotlib.pylab as plt\n",
    "import librosa\n",
    "import librosa.display\n",
    "import pandas as pd\n",
    "import midi\n",
    "import glob\n",
    "\n",
    "%matplotlib inline"
   ]
  },
  {
   "cell_type": "code",
   "execution_count": 3,
   "metadata": {},
   "outputs": [],
   "source": [
    "def parse_midi(fname, instrument_id):\n",
    "    pattern = midi.read_midifile(fname)    \n",
    "    bpm = list(filter(lambda x: isinstance(x, midi.SetTempoEvent), pattern[0]))[0].bpm\n",
    "    tdict = {\n",
    "        midi.NoteOnEvent: 1,\n",
    "        midi.NoteOffEvent: -1\n",
    "    }\n",
    "    events = []\n",
    "    for i in range(1, 5):    \n",
    "        t = np.cumsum([e.tick for e in pattern[i]], dtype=np.int32)                         \n",
    "        events.extend([(t, i - 1, tdict[e.__class__], e.pitch) for (t, e) in zip(t, pattern[i]) if e.__class__ in tdict])\n",
    "    events = list(sorted(events, key=lambda x: (x[0], x[2])))\n",
    "    \n",
    "    chord = [0] * 4\n",
    "    \n",
    "    chords = []    \n",
    "        \n",
    "    for i in range(len(events)):\n",
    "        if (i > 0) and (events[i - 1][0] != events[i][0]):\n",
    "            chords.append((events[i - 1][0], tuple(chord)))            \n",
    "        if events[i][2] == 1:\n",
    "            chord[events[i][1]] = events[i][3]            \n",
    "        else:            \n",
    "            chord[events[i][1]] = 0            \n",
    "    chords.append((events[-1][0], tuple(chord)))\n",
    "    \n",
    "    score = []\n",
    "    for (t, chord) in chords:\n",
    "        if len(score) > 0 and score[-1][-1] == chord[instrument_id]:\n",
    "            continue            \n",
    "        score.append((t, t / pattern.resolution, t * 60000.0 / bpm / pattern.resolution, chord[instrument_id]))\n",
    "        \n",
    "                        \n",
    "            \n",
    "    return pd.DataFrame(score)\n",
    "\n",
    "def wav_features(fname):\n",
    "    sr = 44100\n",
    "    r, _ = librosa.load(fname, sr=sr, offset=0.023)\n",
    "    n_fft, hop_length = 1024, 441\n",
    "    features = np.vstack([\n",
    "        librosa.feature.rmse(r, frame_length=n_fft, hop_length=hop_length),\n",
    "        librosa.feature.spectral_centroid(r, sr=sr, n_fft=n_fft, hop_length=hop_length),\n",
    "        librosa.feature.spectral_bandwidth(r, sr=sr, n_fft=n_fft, hop_length=hop_length),\n",
    "        librosa.feature.mfcc(r, sr=sr, n_mfcc=5, n_fft=n_fft, hop_length=hop_length)        \n",
    "    ]).T\n",
    "    return features"
   ]
  },
  {
   "cell_type": "code",
   "execution_count": 4,
   "metadata": {},
   "outputs": [],
   "source": [
    "instruments = {\n",
    "    'violin': 0,\n",
    "    'clarinet': 1,\n",
    "    'saxphone': 2,\n",
    "    'bassoon': 3,\n",
    "}\n",
    "\n",
    "instrument = 'clarinet'\n",
    "\n",
    "dirs = list(sorted(glob.glob('./data/Bach10/??-*')))\n",
    "mid_files = list(map(lambda x: '%s/%s.mid' % (x, x.split('/')[-1]), dirs))\n",
    "wav_files = list(map(lambda x: '%s/%s-%s.wav' % (x, x.split('/')[-1], instrument), dirs))\n",
    "asl_files = list(map(lambda x: '%s/%s.asl' % (x, x.split('/')[-1]), dirs))\n",
    "\n",
    "alignments = []\n",
    "features = []\n",
    "scores = []\n",
    "for i in range(10):        \n",
    "    alignments.append(pd.read_csv(asl_files[i], sep='\\t', header=None, index_col=None))     \n",
    "    scores.append(parse_midi(mid_files[i], instruments[instrument]))\n",
    "    features.append(wav_features(wav_files[i]))\n",
    "    features[-1] = features[-1][:alignments[-1].shape[0]]\n",
    "    ids = alignments[-1][2] > 0.0\n",
    "    alignments[-1] = alignments[-1][ids]\n",
    "    alignments[-1][2] -= alignments[-1][2].min() - np.modf(alignments[-1][2].min())[0]\n",
    "    features[-1] = features[-1][ids]\n",
    "    alignments[-1] = alignments[-1].iloc[::4]\n",
    "    features[-1] = features[-1][::4]\n",
    "    \n",
    "    scores[-1][1] -= scores[-1][1][0]    "
   ]
  },
  {
   "cell_type": "code",
   "execution_count": 5,
   "metadata": {},
   "outputs": [],
   "source": [
    "def grountruth_matrix(alignment, s):\n",
    "    b = alignment[2].copy()\n",
    "    mx = np.ceil(np.max(alignment[2]) * 2) / 2    \n",
    "    #s = np.arange(0.0, mx, 0.5)        \n",
    "    #print(s, np.arange(0.0, mx, 0.5))\n",
    "    #Y = ((b[:, None] >= s[None, :]) & (b[:, None] < s[None, :] + 0.5)).astype(np.int32)\n",
    "    Y = ((b[:, None] >= s[None, :-1]) & (b[:, None] < s[None, 1:])).astype(np.int32)\n",
    "    return Y\n",
    "\n",
    "def prepare(scores, alignments):\n",
    "    S = set(sum(map(lambda x: x[3].tolist(), scores), []))\n",
    "    K = len(S)    \n",
    "    id_to_key = {i: k for i, k in enumerate(S)}\n",
    "    key_to_id = {k: i for i, k in enumerate(S)}\n",
    "    \n",
    "    GTs = []\n",
    "    Bs = []\n",
    "    \n",
    "    SYs = []\n",
    "    \n",
    "    for k in range(len(scores)):        \n",
    "        GT = grountruth_matrix(alignments[k], scores[k][1])\n",
    "        B = np.array([key_to_id[v] for v in scores[k][3][:-1]], dtype=np.int32)\n",
    "        #j = 0\n",
    "        #for i in range(B.shape[0]):\n",
    "        #    while (2 * scores[k][1][j + 1] <= i):\n",
    "        #        j += 1            \n",
    "        #    B[i] = key_to_id[scores[k][3][j]]\n",
    "        GTs.append(GT)\n",
    "        Bs.append(B)\n",
    "        \n",
    "        SY = np.zeros(alignments[k].shape[0], dtype=np.int32)\n",
    "        j = 0\n",
    "        for i in range(alignments[k].shape[0]):\n",
    "            while (scores[k][1][j + 1] <= alignments[k].iloc[i, 2]):\n",
    "                j += 1            \n",
    "            SY[i] = key_to_id[scores[k][3][j]]\n",
    "        SYs.append(SY)\n",
    "        \n",
    "    return GTs, Bs, SYs, K\n",
    "    "
   ]
  },
  {
   "cell_type": "code",
   "execution_count": 6,
   "metadata": {},
   "outputs": [],
   "source": [
    "GTs, Bs, SYs, K = prepare(scores, alignments)"
   ]
  },
  {
   "cell_type": "code",
   "execution_count": 7,
   "metadata": {},
   "outputs": [
    {
     "data": {
      "text/plain": [
       "18"
      ]
     },
     "execution_count": 7,
     "metadata": {},
     "output_type": "execute_result"
    }
   ],
   "source": [
    "K"
   ]
  },
  {
   "cell_type": "code",
   "execution_count": 8,
   "metadata": {},
   "outputs": [
    {
     "data": {
      "text/plain": [
       "(31.948999999999998, 31.0)"
      ]
     },
     "execution_count": 8,
     "metadata": {},
     "output_type": "execute_result"
    }
   ],
   "source": [
    "np.max(alignments[0][2]), np.max(scores[0][1][:-1])"
   ]
  },
  {
   "cell_type": "code",
   "execution_count": 9,
   "metadata": {},
   "outputs": [
    {
     "data": {
      "text/plain": [
       "(601, 26)"
      ]
     },
     "execution_count": 9,
     "metadata": {},
     "output_type": "execute_result"
    }
   ],
   "source": [
    "GTs[0].shape"
   ]
  },
  {
   "cell_type": "code",
   "execution_count": 14,
   "metadata": {},
   "outputs": [
    {
     "data": {
      "text/plain": [
       "array([ 3,  3,  3,  3,  3,  3,  3,  3,  3,  3,  3,  3,  3,  3,  3,  3,  3,\n",
       "        3,  3,  3,  3,  3,  3,  3,  3,  3,  3,  3,  3,  3,  3,  3,  2,  2,\n",
       "        2,  2,  2,  2,  2,  2,  2,  2,  2,  2,  2,  2,  2, 16, 16, 16, 16,\n",
       "       16, 16, 16, 16, 16, 16, 16, 16, 16, 16, 16, 16, 16, 16, 16, 16, 16,\n",
       "       16, 16, 16, 16, 16, 16, 16, 16, 16, 16,  0,  0,  0,  0,  0,  0,  0,\n",
       "       16, 16, 16, 16, 16, 16, 16, 14, 14, 14, 14, 14, 14, 14, 14, 14, 14,\n",
       "       14, 14, 14, 14, 14, 16, 16, 16, 16, 16, 16, 16, 16, 16, 16, 16, 16,\n",
       "       16, 16, 16, 16,  0,  0,  0,  0,  0,  0,  0,  0,  0,  0,  0,  0,  0,\n",
       "        0,  0,  0,  0,  0,  0,  0,  0,  0,  0,  0,  0,  0,  0,  0,  0,  0,\n",
       "        0,  0,  0,  0,  0,  0,  0,  0,  0,  0,  0,  0,  0,  0,  3,  3,  3,\n",
       "        3,  3,  3,  3,  3,  3,  3,  3,  3,  3,  3,  3,  3,  3,  3,  3,  3,\n",
       "        3,  2,  2,  2,  2,  2,  2,  2,  2,  3,  3,  3,  3,  3,  3,  3,  3,\n",
       "        3,  3,  3,  3,  3,  3,  2,  2,  2,  2,  2,  2,  2,  2,  2,  2,  2,\n",
       "        2,  2,  2,  2,  3,  3,  3,  3,  3,  3,  3,  3,  3,  3,  3,  3,  3,\n",
       "        3,  3,  3,  3,  3,  3,  3,  3,  3,  3,  3,  3,  3,  3,  3,  3,  2,\n",
       "        2,  2,  2,  2,  2,  2,  2,  2,  2,  2,  2,  2,  2,  2,  2, 16, 16,\n",
       "       16, 16, 16, 16, 16, 16, 16, 16, 16, 16, 16, 16, 16, 16, 16, 16, 16,\n",
       "       16, 16, 16, 16, 16, 16, 16, 16, 16, 16, 16, 16, 16, 16, 16, 16, 16,\n",
       "       16, 16, 16, 16, 16, 16, 16, 16, 16, 16, 16,  3,  3,  3,  3,  3,  3,\n",
       "        3,  3,  3,  3,  3,  3,  3,  3,  1,  1,  1,  1,  1,  1,  1,  1,  1,\n",
       "        1,  1,  1,  1,  1,  1,  3,  3,  3,  3,  3,  3,  3,  3,  3,  3,  3,\n",
       "        3,  3,  3,  3,  3,  3,  3,  3,  3,  3,  3,  3,  3,  3,  3,  3,  3,\n",
       "        3,  3,  3,  3,  3,  3,  3,  3,  3,  3,  3,  3,  3,  3,  3,  3,  3,\n",
       "        3,  3,  3,  3,  3,  3,  3,  3,  3,  3,  3,  3,  3,  3,  3,  3,  3,\n",
       "        3,  3,  3,  3,  3,  3,  3,  3,  3,  3,  3,  3,  2,  2,  2,  2,  2,\n",
       "        2,  2,  2,  2,  2,  2,  2,  2,  2,  3,  3,  3,  3,  3,  3,  3,  3,\n",
       "        3,  3,  3,  3,  3,  3,  3,  3,  3,  3,  3,  3,  3,  3,  3,  3,  3,\n",
       "        3,  3,  3,  3,  3,  3,  3,  3,  3,  3,  3,  3,  3,  3,  3,  3,  3,\n",
       "        3,  3,  3,  3,  3,  3,  3,  3,  3,  3,  3,  3,  3,  3,  3,  3, 16,\n",
       "       16, 16, 16, 16, 16, 16, 16, 16, 16, 16, 16, 16, 16, 16, 16, 16, 16,\n",
       "       16, 16, 16, 16, 16, 16, 16, 16, 16, 16, 16, 14, 14, 14, 14, 14, 14,\n",
       "       14, 14, 14, 14, 14, 14, 14, 14, 14, 14, 14, 14, 14, 14, 14, 14, 14,\n",
       "        5,  5,  5,  5,  5,  5,  5,  5,  3,  3,  3,  3,  3,  3,  3,  3,  3,\n",
       "        3,  3,  3,  3,  3,  3,  3,  3,  3,  3,  3,  3,  3,  3,  1,  1,  1,\n",
       "        1,  1,  1,  1,  1,  1,  0,  0,  0,  0,  0,  0,  0,  0,  0,  0,  0,\n",
       "        0,  0,  0,  0,  0,  0], dtype=int32)"
      ]
     },
     "execution_count": 14,
     "metadata": {},
     "output_type": "execute_result"
    }
   ],
   "source": [
    "SYs[0]"
   ]
  },
  {
   "cell_type": "code",
   "execution_count": 15,
   "metadata": {},
   "outputs": [
    {
     "data": {
      "text/plain": [
       "array([ 3,  2, 16,  0, 16, 14, 16,  0,  3,  2,  3,  2,  3,  2, 16,  3,  1,\n",
       "        3,  2,  3, 16, 14,  5,  3,  1,  0], dtype=int32)"
      ]
     },
     "execution_count": 15,
     "metadata": {},
     "output_type": "execute_result"
    }
   ],
   "source": [
    "Bs[0]"
   ]
  },
  {
   "cell_type": "code",
   "execution_count": null,
   "metadata": {},
   "outputs": [],
   "source": []
  },
  {
   "cell_type": "code",
   "execution_count": null,
   "metadata": {},
   "outputs": [],
   "source": []
  },
  {
   "cell_type": "code",
   "execution_count": null,
   "metadata": {},
   "outputs": [],
   "source": []
  },
  {
   "cell_type": "code",
   "execution_count": null,
   "metadata": {},
   "outputs": [],
   "source": [
    "\n"
   ]
  },
  {
   "cell_type": "code",
   "execution_count": null,
   "metadata": {},
   "outputs": [],
   "source": []
  }
 ],
 "metadata": {
  "kernelspec": {
   "display_name": "Python 3",
   "language": "python",
   "name": "python3"
  },
  "language_info": {
   "codemirror_mode": {
    "name": "ipython",
    "version": 3
   },
   "file_extension": ".py",
   "mimetype": "text/x-python",
   "name": "python",
   "nbconvert_exporter": "python",
   "pygments_lexer": "ipython3",
   "version": "3.6.3"
  }
 },
 "nbformat": 4,
 "nbformat_minor": 2
}
