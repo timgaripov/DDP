{
 "cells": [
  {
   "cell_type": "code",
   "execution_count": null,
   "metadata": {},
   "outputs": [],
   "source": [
    "import glob\n",
    "import numpy as np\n",
    "import pandas as pd\n",
    "import sklearn\n",
    "\n",
    "from sklearn.ensemble import RandomForestClassifier\n",
    "\n",
    "from project_utils import *\n",
    "\n",
    "%matplotlib inline"
   ]
  },
  {
   "cell_type": "markdown",
   "metadata": {},
   "source": [
    "## Загрузка данных"
   ]
  },
  {
   "cell_type": "code",
   "execution_count": null,
   "metadata": {},
   "outputs": [],
   "source": [
    "instruments = {s: i for i, s in enumerate([\n",
    "    'violin',\n",
    "    'clarinet',\n",
    "    'saxphone',\n",
    "    'bassoon',\n",
    "])}\n",
    "\n",
    "instrument = 'bassoon'\n",
    "\n",
    "dirs = list(sorted(glob.glob('./data/Bach10/??-*')))\n",
    "mid_files = ['{}/{}.mid'.format(x, x.split('/')[-1]) for x in dirs]\n",
    "wav_files = ['{}/{}-{}.wav'.format(x, x.split('/')[-1], instrument) for x in dirs]\n",
    "asl_files = ['{}/{}.asl'.format(x, x.split('/')[-1]) for x in dirs]\n",
    "\n",
    "alignments = []\n",
    "features = []\n",
    "scores = []\n",
    "for i in range(10):        \n",
    "    alignments.append(pd.read_csv(asl_files[i], sep='\\t', header=None, index_col=None))     \n",
    "    scores.append(parse_midi(mid_files[i], instruments[instrument]))\n",
    "    features.append(wav_features(wav_files[i]))\n",
    "    features[-1] = features[-1][:alignments[-1].shape[0]]\n",
    "    ids = alignments[-1][2] > 0.0\n",
    "    alignments[-1] = alignments[-1][ids]\n",
    "    alignments[-1][2] -= alignments[-1][2].min() - np.modf(alignments[-1][2].min())[0]\n",
    "    features[-1] = features[-1][ids]\n",
    "    alignments[-1] = alignments[-1].iloc[::4]\n",
    "    features[-1] = features[-1][::4]\n",
    "    \n",
    "    scores[-1][1] -= scores[-1][1][0]    "
   ]
  },
  {
   "cell_type": "code",
   "execution_count": null,
   "metadata": {
    "collapsed": true
   },
   "outputs": [],
   "source": [
    "GTs, Bs, SYs, K = prepare(scores, alignments)"
   ]
  },
  {
   "cell_type": "markdown",
   "metadata": {},
   "source": [
    "## Логистическая регрессия"
   ]
  },
  {
   "cell_type": "code",
   "execution_count": null,
   "metadata": {},
   "outputs": [],
   "source": [
    "import sklearn\n",
    "X_train = np.vstack(features[5:])\n",
    "Y_train = np.concatenate(SYs[5:])\n",
    "\n",
    "\n",
    "X_test = np.vstack(features[:5])\n",
    "Y_test = np.concatenate(SYs[:5])\n",
    "\n",
    "m, s = np.mean(X_train, axis=0, keepdims=True), np.std(X_train, axis=0, keepdims=True)\n",
    "X_train = (X_train - m) / s\n",
    "X_test = (X_test - m) / s\n",
    "\n",
    "clf = sklearn.linear_model.LogisticRegression(\n",
    "    C=1e4,\n",
    "    solver='lbfgs',\n",
    "    multi_class='multinomial',\n",
    "    verbose=True,\n",
    "    max_iter=1000\n",
    ")\n",
    "clf.fit(X_train, Y_train)"
   ]
  },
  {
   "cell_type": "code",
   "execution_count": null,
   "metadata": {},
   "outputs": [],
   "source": [
    "print(np.mean(clf.predict_log_proba(X_train)[np.arange(X_train.shape[0]), Y_train]))\n",
    "print(np.mean(clf.predict(X_train) == Y_train))\n",
    "print('---')\n",
    "print(np.mean(clf.predict_log_proba(X_test)[np.arange(X_test.shape[0]), Y_test]))\n",
    "print(np.mean(clf.predict(X_test) == Y_test))\n"
   ]
  },
  {
   "cell_type": "code",
   "execution_count": null,
   "metadata": {},
   "outputs": [],
   "source": [
    "def DTW(theta):\n",
    "    D = np.zeros((theta.shape[0] + 1, theta.shape[1] + 1))\n",
    "    D[0, 1:] = 1e20\n",
    "    D[1:, 0] = 1e20\n",
    "    Q = np.zeros((theta.shape[0] + 1, theta.shape[1] + 1, 2), dtype=np.int32)    \n",
    "    for i in range(1, theta.shape[0] + 1):\n",
    "        tmp = np.hstack([D[i - 1, 1:][:, None], D[i - 1, :-1][:, None]]) + theta[i - 1, :][:, None]\n",
    "        Q[i - 1, np.arange(theta.shape[1]), np.argmin(tmp, axis=1)] = 1                 \n",
    "        D[i, 1:] = np.sum(tmp * Q[i - 1, :-1], axis=1)        \n",
    "        \n",
    "    Y = np.zeros((theta.shape[0] + 1, theta.shape[1] + 1), dtype=np.int32)\n",
    "    Y[-1, -1] = 1\n",
    "    Q[-1, -1] = [0, 1]\n",
    "    j = theta.shape[1] - 1    \n",
    "    for i in range(theta.shape[0] - 1, -1, -1):\n",
    "        Y[i, :-1] = np.sum(\n",
    "            np.hstack([Y[i + 1, :-1][:, None], Y[i + 1, 1:][:, None]]) * \n",
    "            np.hstack([Q[i + 1, :-1, 0][:, None], Q[i + 1, 1:, 1][:, None]]), axis=1)\n",
    "    \n",
    "    return D[:-1, :-1], Y[:-1, :-1]\n",
    "\n",
    "def MAD(Y, GT):\n",
    "    return np.sum(np.cumsum(Y - GT, axis=1) ** 2) / GT.shape[0]\n",
    "\n",
    "def average_MAD(features, m, Bs, GTs):\n",
    "    res = 0\n",
    "    for i in range(5):\n",
    "        theta = -np.log(\n",
    "            clf.predict_proba((features[i] - m) / s)[np.arange(features[i].shape[0])[:, None], Bs[i][None, :]] \n",
    "            + 0.1\n",
    "        )\n",
    "        v, Y = DTW(theta)\n",
    "        print(MAD(Y, GTs[i]))\n",
    "        res += MAD(Y, GTs[i]) * Y.shape[0]\n",
    "\n",
    "    return res / Y_test.shape[0]"
   ]
  },
  {
   "cell_type": "code",
   "execution_count": null,
   "metadata": {},
   "outputs": [],
   "source": [
    "print('Average MAD', average_MAD(features, m, Bs, GTs))"
   ]
  },
  {
   "cell_type": "markdown",
   "metadata": {},
   "source": [
    "## Random forest"
   ]
  },
  {
   "cell_type": "code",
   "execution_count": null,
   "metadata": {},
   "outputs": [],
   "source": [
    "X_train = np.vstack(features[5:])\n",
    "Y_train = np.concatenate(SYs[5:])\n",
    "\n",
    "X_test = np.vstack(features[:5])\n",
    "Y_test = np.concatenate(SYs[:5])\n",
    "\n",
    "m, s = np.mean(X_train, axis=0, keepdims=True), np.std(X_train, axis=0, keepdims=True)\n",
    "X_train = (X_train - m) / s\n",
    "X_test = (X_test - m) / s\n",
    "\n",
    "clf = RandomForestClassifier(n_estimators=100, random_state=42)\n",
    "clf.fit(X_train, Y_train)"
   ]
  },
  {
   "cell_type": "code",
   "execution_count": null,
   "metadata": {},
   "outputs": [],
   "source": [
    "print(np.mean(clf.predict_proba(X_train)[np.arange(X_train.shape[0]), Y_train]))\n",
    "print(np.mean(clf.predict(X_train) == Y_train))\n",
    "print('---')\n",
    "print(np.mean(clf.predict_proba(X_test)[np.arange(X_test.shape[0]), Y_test]))\n",
    "print(np.mean(clf.predict(X_test) == Y_test))\n"
   ]
  },
  {
   "cell_type": "code",
   "execution_count": null,
   "metadata": {},
   "outputs": [],
   "source": [
    "print('Average MAD', average_MAD(features, m, Bs, GTs))"
   ]
  },
  {
   "cell_type": "code",
   "execution_count": null,
   "metadata": {
    "collapsed": true
   },
   "outputs": [],
   "source": []
  },
  {
   "cell_type": "code",
   "execution_count": null,
   "metadata": {
    "collapsed": true
   },
   "outputs": [],
   "source": []
  },
  {
   "cell_type": "code",
   "execution_count": null,
   "metadata": {
    "collapsed": true
   },
   "outputs": [],
   "source": []
  },
  {
   "cell_type": "code",
   "execution_count": null,
   "metadata": {
    "collapsed": true
   },
   "outputs": [],
   "source": []
  },
  {
   "cell_type": "code",
   "execution_count": null,
   "metadata": {
    "collapsed": true
   },
   "outputs": [],
   "source": []
  },
  {
   "cell_type": "code",
   "execution_count": null,
   "metadata": {
    "collapsed": true
   },
   "outputs": [],
   "source": []
  },
  {
   "cell_type": "code",
   "execution_count": null,
   "metadata": {
    "collapsed": true
   },
   "outputs": [],
   "source": [
    "\n"
   ]
  },
  {
   "cell_type": "code",
   "execution_count": null,
   "metadata": {
    "collapsed": true
   },
   "outputs": [],
   "source": []
  }
 ],
 "metadata": {
  "kernelspec": {
   "display_name": "Python 3",
   "language": "python",
   "name": "python3"
  },
  "language_info": {
   "codemirror_mode": {
    "name": "ipython",
    "version": 3
   },
   "file_extension": ".py",
   "mimetype": "text/x-python",
   "name": "python",
   "nbconvert_exporter": "python",
   "pygments_lexer": "ipython3",
   "version": "3.6.3"
  }
 },
 "nbformat": 4,
 "nbformat_minor": 2
}
