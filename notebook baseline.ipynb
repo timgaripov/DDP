{
 "cells": [
  {
   "cell_type": "code",
   "execution_count": 1,
   "metadata": {},
   "outputs": [],
   "source": [
    "import numpy as np\n",
    "import math\n",
    "import matplotlib.pylab as plt\n",
    "import librosa\n",
    "import librosa.display\n",
    "import pandas as pd\n",
    "import midi\n",
    "import glob\n",
    "\n",
    "%matplotlib inline"
   ]
  },
  {
   "cell_type": "code",
   "execution_count": 2,
   "metadata": {},
   "outputs": [],
   "source": [
    "def parse_midi(fname, instrument_id):\n",
    "    pattern = midi.read_midifile(fname)    \n",
    "    bpm = list(filter(lambda x: isinstance(x, midi.SetTempoEvent), pattern[0]))[0].bpm\n",
    "    tdict = {\n",
    "        midi.NoteOnEvent: 1,\n",
    "        midi.NoteOffEvent: -1\n",
    "    }\n",
    "    events = []\n",
    "    for i in range(1, 5):    \n",
    "        t = np.cumsum([e.tick for e in pattern[i]], dtype=np.int32)                         \n",
    "        events.extend([(t, i - 1, tdict[e.__class__], e.pitch) for (t, e) in zip(t, pattern[i]) if e.__class__ in tdict])\n",
    "    events = list(sorted(events, key=lambda x: (x[0], x[2])))\n",
    "    \n",
    "    chord = [0] * 4\n",
    "    \n",
    "    chords = []    \n",
    "        \n",
    "    for i in range(len(events)):\n",
    "        if (i > 0) and (events[i - 1][0] != events[i][0]):\n",
    "            chords.append((events[i - 1][0], tuple(chord)))            \n",
    "        if events[i][2] == 1:\n",
    "            chord[events[i][1]] = events[i][3]            \n",
    "        else:            \n",
    "            chord[events[i][1]] = 0            \n",
    "    chords.append((events[-1][0], tuple(chord)))\n",
    "    \n",
    "    score = []\n",
    "    for (t, chord) in chords:\n",
    "        if len(score) > 0 and score[-1][-1] == chord[instrument_id]:\n",
    "            continue            \n",
    "        score.append((t, t / pattern.resolution, t * 60000.0 / bpm / pattern.resolution, chord[instrument_id]))\n",
    "        \n",
    "                        \n",
    "            \n",
    "    return pd.DataFrame(score)\n",
    "\n",
    "def wav_features(fname):\n",
    "    sr = 44100\n",
    "    r, _ = librosa.load(fname, sr=sr, offset=0.023)\n",
    "    n_fft, hop_length = 1024, 441\n",
    "    features = np.vstack([\n",
    "        librosa.feature.rmse(r, frame_length=n_fft, hop_length=hop_length),\n",
    "        librosa.feature.spectral_centroid(r, sr=sr, n_fft=n_fft, hop_length=hop_length),\n",
    "        librosa.feature.spectral_bandwidth(r, sr=sr, n_fft=n_fft, hop_length=hop_length),\n",
    "        librosa.feature.mfcc(r, sr=sr, n_mfcc=5, n_fft=n_fft, hop_length=hop_length)        \n",
    "    ]).T\n",
    "    return features"
   ]
  },
  {
   "cell_type": "code",
   "execution_count": 3,
   "metadata": {},
   "outputs": [],
   "source": [
    "instruments = {\n",
    "    'violin': 0,\n",
    "    'clarinet': 1,\n",
    "    'saxphone': 2,\n",
    "    'bassoon': 3,\n",
    "}\n",
    "\n",
    "instrument = 'clarinet'\n",
    "\n",
    "dirs = list(sorted(glob.glob('./data/Bach10/??-*')))\n",
    "mid_files = list(map(lambda x: '%s/%s.mid' % (x, x.split('/')[-1]), dirs))\n",
    "wav_files = list(map(lambda x: '%s/%s-%s.wav' % (x, x.split('/')[-1], instrument), dirs))\n",
    "asl_files = list(map(lambda x: '%s/%s.asl' % (x, x.split('/')[-1]), dirs))\n",
    "\n",
    "alignments = []\n",
    "features = []\n",
    "scores = []\n",
    "for i in range(10):        \n",
    "    alignments.append(pd.read_csv(asl_files[i], sep='\\t', header=None, index_col=None))     \n",
    "    scores.append(parse_midi(mid_files[i], instruments[instrument]))\n",
    "    features.append(wav_features(wav_files[i]))\n",
    "    features[-1] = features[-1][:alignments[-1].shape[0]]\n",
    "    ids = alignments[-1][2] > 0.0\n",
    "    alignments[-1] = alignments[-1][ids]\n",
    "    alignments[-1][2] -= alignments[-1][2].min() - np.modf(alignments[-1][2].min())[0]\n",
    "    features[-1] = features[-1][ids]\n",
    "    alignments[-1] = alignments[-1].iloc[::4]\n",
    "    features[-1] = features[-1][::4]\n",
    "    \n",
    "    scores[-1][1] -= scores[-1][1][0]    "
   ]
  },
  {
   "cell_type": "code",
   "execution_count": 4,
   "metadata": {},
   "outputs": [],
   "source": [
    "def grountruth_matrix(alignment, s):\n",
    "    b = alignment[2].copy()\n",
    "    mx = np.ceil(np.max(alignment[2]) * 2) / 2    \n",
    "    #s = np.arange(0.0, mx, 0.5)        \n",
    "    #print(s, np.arange(0.0, mx, 0.5))\n",
    "    #Y = ((b[:, None] >= s[None, :]) & (b[:, None] < s[None, :] + 0.5)).astype(np.int32)\n",
    "    Y = ((b[:, None] >= s[None, :-1]) & (b[:, None] < s[None, 1:])).astype(np.int32)\n",
    "    return Y\n",
    "\n",
    "def prepare(scores, alignments):\n",
    "    S = set(sum(map(lambda x: x[3].tolist(), scores), []))\n",
    "    K = len(S)    \n",
    "    id_to_key = {i: k for i, k in enumerate(S)}\n",
    "    key_to_id = {k: i for i, k in enumerate(S)}\n",
    "    \n",
    "    GTs = []\n",
    "    Bs = []\n",
    "    \n",
    "    SYs = []\n",
    "    \n",
    "    for k in range(len(scores)):        \n",
    "        GT = grountruth_matrix(alignments[k], scores[k][1])\n",
    "        B = np.array([key_to_id[v] for v in scores[k][3][:-1]], dtype=np.int32)\n",
    "        #j = 0\n",
    "        #for i in range(B.shape[0]):\n",
    "        #    while (2 * scores[k][1][j + 1] <= i):\n",
    "        #        j += 1            \n",
    "        #    B[i] = key_to_id[scores[k][3][j]]\n",
    "        GTs.append(GT)\n",
    "        Bs.append(B)\n",
    "        \n",
    "        SY = np.zeros(alignments[k].shape[0], dtype=np.int32)\n",
    "        j = 0\n",
    "        for i in range(alignments[k].shape[0]):\n",
    "            while (scores[k][1][j + 1] <= alignments[k].iloc[i, 2]):\n",
    "                j += 1            \n",
    "            SY[i] = key_to_id[scores[k][3][j]]\n",
    "        SYs.append(SY)\n",
    "        \n",
    "    return GTs, Bs, SYs, K\n",
    "    "
   ]
  },
  {
   "cell_type": "code",
   "execution_count": 5,
   "metadata": {},
   "outputs": [],
   "source": [
    "GTs, Bs, SYs, K = prepare(scores, alignments)"
   ]
  },
  {
   "cell_type": "code",
   "execution_count": 6,
   "metadata": {},
   "outputs": [
    {
     "data": {
      "text/plain": [
       "18"
      ]
     },
     "execution_count": 6,
     "metadata": {},
     "output_type": "execute_result"
    }
   ],
   "source": [
    "K"
   ]
  },
  {
   "cell_type": "code",
   "execution_count": 7,
   "metadata": {},
   "outputs": [
    {
     "data": {
      "text/plain": [
       "(31.948999999999998, 31.0)"
      ]
     },
     "execution_count": 7,
     "metadata": {},
     "output_type": "execute_result"
    }
   ],
   "source": [
    "np.max(alignments[0][2]), np.max(scores[0][1][:-1])"
   ]
  },
  {
   "cell_type": "code",
   "execution_count": 8,
   "metadata": {},
   "outputs": [
    {
     "data": {
      "text/plain": [
       "(601, 26)"
      ]
     },
     "execution_count": 8,
     "metadata": {},
     "output_type": "execute_result"
    }
   ],
   "source": [
    "GTs[0].shape"
   ]
  },
  {
   "cell_type": "code",
   "execution_count": 9,
   "metadata": {},
   "outputs": [
    {
     "name": "stderr",
     "output_type": "stream",
     "text": [
      "[Parallel(n_jobs=1)]: Done   1 out of   1 | elapsed:    7.2s finished\n"
     ]
    },
    {
     "data": {
      "text/plain": [
       "LogisticRegression(C=10000.0, class_weight=None, dual=False,\n",
       "          fit_intercept=True, intercept_scaling=1, max_iter=1000,\n",
       "          multi_class='multinomial', n_jobs=1, penalty='l2',\n",
       "          random_state=None, solver='lbfgs', tol=0.0001, verbose=True,\n",
       "          warm_start=False)"
      ]
     },
     "execution_count": 9,
     "metadata": {},
     "output_type": "execute_result"
    }
   ],
   "source": [
    "import sklearn\n",
    "X_train = np.vstack(features[1:])\n",
    "Y_train = np.concatenate(SYs[1:])\n",
    "\n",
    "\n",
    "X_test = features[0].copy()\n",
    "Y_test = SYs[0].copy()\n",
    "\n",
    "m, s = np.mean(X_train, axis=0, keepdims=True), np.std(X_train, axis=0, keepdims=True)\n",
    "X_train = (X_train - m) / s\n",
    "X_test = (X_test - m) / s\n",
    "\n",
    "clf = sklearn.linear_model.LogisticRegression(C=1e4, solver='lbfgs', multi_class='multinomial', verbose=True, max_iter=1000)\n",
    "clf.fit(X_train, Y_train)"
   ]
  },
  {
   "cell_type": "code",
   "execution_count": 10,
   "metadata": {},
   "outputs": [
    {
     "name": "stdout",
     "output_type": "stream",
     "text": [
      "-1.37168895046\n",
      "0.637728194726\n",
      "---\n",
      "-1.18061476266\n",
      "0.668885191348\n"
     ]
    }
   ],
   "source": [
    "print(np.mean(clf.predict_log_proba(X_train)[np.arange(X_train.shape[0]), Y_train]))\n",
    "print(np.mean(clf.predict(X_train) == Y_train))\n",
    "print('---')\n",
    "print(np.mean(clf.predict_log_proba(X_test)[np.arange(X_test.shape[0]), Y_test]))\n",
    "print(np.mean(clf.predict(X_test) == Y_test))\n"
   ]
  },
  {
   "cell_type": "code",
   "execution_count": 11,
   "metadata": {},
   "outputs": [
    {
     "data": {
      "text/plain": [
       "-60.260876888063336"
      ]
     },
     "execution_count": 11,
     "metadata": {},
     "output_type": "execute_result"
    }
   ],
   "source": [
    "clf.predict_log_proba(X_test).min()"
   ]
  },
  {
   "cell_type": "code",
   "execution_count": 12,
   "metadata": {},
   "outputs": [
    {
     "data": {
      "text/plain": [
       "(601, 49)"
      ]
     },
     "execution_count": 12,
     "metadata": {},
     "output_type": "execute_result"
    }
   ],
   "source": [
    "theta = -clf.predict_log_proba(X_test)[np.arange(X_test.shape[0])[:, None], Bs[-1][None, :]]\n",
    "theta.shape"
   ]
  },
  {
   "cell_type": "code",
   "execution_count": 13,
   "metadata": {},
   "outputs": [],
   "source": [
    "def DTW(theta):\n",
    "    D = np.zeros((theta.shape[0] + 1, theta.shape[1] + 1))\n",
    "    D[0, 1:] = 1e20\n",
    "    D[1:, 0] = 1e20 \n",
    "    Q = np.zeros((theta.shape[0] + 1, theta.shape[1] + 1, 2), dtype=np.int32)    \n",
    "    for i in range(1, theta.shape[0] + 1):\n",
    "        tmp = np.hstack([D[i - 1, 1:][:, None], D[i - 1, :-1][:, None]]) + theta[i - 1, :][:, None]\n",
    "        Q[i - 1, np.arange(theta.shape[1]), np.argmin(tmp, axis=1)] = 1                 \n",
    "        D[i, 1:] = np.sum(tmp * Q[i - 1, :-1], axis=1)        \n",
    "        \n",
    "    Y = np.zeros((theta.shape[0] + 1, theta.shape[1] + 1), dtype=np.int32)\n",
    "    Y[-1, -1] = 1\n",
    "    Q[-1, -1] = [0, 1]\n",
    "    j = theta.shape[1] - 1    \n",
    "    for i in range(theta.shape[0] - 1, -1, -1):\n",
    "        Y[i, :-1] = np.sum(\n",
    "            np.hstack([Y[i + 1, :-1][:, None], Y[i + 1, 1:][:, None]]) * \n",
    "            np.hstack([Q[i + 1, :-1, 0][:, None], Q[i + 1, 1:, 1][:, None]]), axis=1)\n",
    "    \n",
    "    return D[:-1, :-1], Y[:-1, :-1]\n",
    "\n",
    "def MAD(Y, GT):\n",
    "    return np.sum(np.cumsum(Y - GT, axis=1) ** 2) / GT.shape[0]"
   ]
  },
  {
   "cell_type": "code",
   "execution_count": 14,
   "metadata": {},
   "outputs": [
    {
     "data": {
      "image/png": "[encoded data removed]",
      "text/plain": [
       "<matplotlib.figure.Figure at 0x7f3fb2992ac8>"
      ]
     },
     "metadata": {},
     "output_type": "display_data"
    },
    {
     "name": "stdout",
     "output_type": "stream",
     "text": [
      "0.114808652246\n"
     ]
    }
   ],
   "source": [
    "#theta = np.random.randn(*GTs[-1].shape)\n",
    "theta = -clf.predict_log_proba(X_test)[np.arange(X_test.shape[0])[:, None], Bs[0][None, :]]\n",
    "v, Y = DTW(theta)\n",
    "#Y = np.zeros_like(GTs[0])\n",
    "#k = (Y.shape[0] + Y.shape[1] - 1) // Y.shape[1]\n",
    "#for i in range(Y.shape[1]):\n",
    "#    Y[i * k:(i + 1) * k, i] = 1\n",
    "\n",
    "plt.plot(np.where(GTs[0])[1])\n",
    "plt.plot(np.where(Y)[1])\n",
    "plt.show()\n",
    "print(MAD(Y, GTs[0]))"
   ]
  },
  {
   "cell_type": "code",
   "execution_count": null,
   "metadata": {},
   "outputs": [],
   "source": []
  },
  {
   "cell_type": "code",
   "execution_count": 15,
   "metadata": {},
   "outputs": [
    {
     "data": {
      "image/png": "[encoded data removed]",
      "text/plain": [
       "<matplotlib.figure.Figure at 0x7f3ff9de3b70>"
      ]
     },
     "metadata": {},
     "output_type": "display_data"
    }
   ],
   "source": [
    "Y_test = np.zeros_like(Y)\n",
    "k = (Y_test.shape[0] + Y_test.shape[1] - 1) // Y_test.shape[1]\n",
    "for i in range(Y_test.shape[1]):\n",
    "    Y_test[i * k:(i + 1) * k, i] = 1\n",
    "plt.plot(np.where(Y_test)[1])\n",
    "plt.plot(np.where(Y)[1])\n",
    "plt.show()"
   ]
  },
  {
   "cell_type": "code",
   "execution_count": 16,
   "metadata": {},
   "outputs": [
    {
     "data": {
      "text/plain": [
       "array([  9.,  14.,   0.,  10.,  28.,  37.,  47.,  23.,  26.,  44.,  53.,\n",
       "        63.,  58.,  67.,  60.,  53.,  61.,  11.,  22.,  12.,  18.,  16.,\n",
       "         1.,   6.,   4.,   0.], dtype=float32)"
      ]
     },
     "execution_count": 16,
     "metadata": {},
     "output_type": "execute_result"
    }
   ],
   "source": [
    "np.sum((Y.astype(np.float32) - Y_test.astype(np.float32)).cumsum(axis=1) ** 2, axis=0)"
   ]
  },
  {
   "cell_type": "code",
   "execution_count": null,
   "metadata": {},
   "outputs": [],
   "source": []
  },
  {
   "cell_type": "code",
   "execution_count": null,
   "metadata": {},
   "outputs": [],
   "source": []
  },
  {
   "cell_type": "code",
   "execution_count": null,
   "metadata": {},
   "outputs": [],
   "source": [
    "\n"
   ]
  },
  {
   "cell_type": "code",
   "execution_count": null,
   "metadata": {},
   "outputs": [],
   "source": []
  }
 ],
 "metadata": {
  "kernelspec": {
   "display_name": "Python 3",
   "language": "python",
   "name": "python3"
  },
  "language_info": {
   "codemirror_mode": {
    "name": "ipython",
    "version": 3
   },
   "file_extension": ".py",
   "mimetype": "text/x-python",
   "name": "python",
   "nbconvert_exporter": "python",
   "pygments_lexer": "ipython3",
   "version": "3.6.3"
  }
 },
 "nbformat": 4,
 "nbformat_minor": 2
}
